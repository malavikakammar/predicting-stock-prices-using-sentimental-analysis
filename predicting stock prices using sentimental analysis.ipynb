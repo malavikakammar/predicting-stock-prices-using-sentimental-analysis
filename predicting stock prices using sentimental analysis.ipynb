{
 "cells": [
  {
   "cell_type": "code",
   "execution_count": 4,
   "metadata": {},
   "outputs": [
    {
     "name": "stdout",
     "output_type": "stream",
     "text": [
      "Model Coefficients: [-2.66083810e-01 -1.35492298e+11  1.42488953e+11 ...  1.25484676e+11\n",
      " -1.89825716e+10  4.22383178e+10]\n"
     ]
    }
   ],
   "source": [
    "import pandas as pd\n",
    "from sklearn.feature_extraction.text import CountVectorizer\n",
    "from sklearn.linear_model import LinearRegression\n",
    "\n",
    "# Load the dataset\n",
    "file_path = 'C://Users//malav//Downloads//archive (6)//all-data.csv'\n",
    "df = pd.read_csv(file_path, encoding='latin1')\n",
    "\n",
    "# Rename columns for easier handling\n",
    "df.rename(columns={\n",
    "    'neutral': 'label',\n",
    "    'According to Gran , the company has no plans to move all production to Russia , although that is where the company is growing .': 'text'\n",
    "}, inplace=True)\n",
    "\n",
    "# Handle missing values if any\n",
    "df = df.dropna(subset=['text', 'label'])\n",
    "\n",
    "# Convert text data to numerical features using CountVectorizer\n",
    "vectorizer = CountVectorizer()\n",
    "X = vectorizer.fit_transform(df['text'])\n",
    "\n",
    "# Convert labels to numeric values (e.g., 0, 1, 2 for neutral, negative, positive)\n",
    "label_mapping = {'neutral': 0, 'negative': 1, 'positive': 2}\n",
    "y = df['label'].map(label_mapping)\n",
    "\n",
    "# Train Linear Regression model (for demonstration, even though linear regression isn't ideal for classification)\n",
    "model = LinearRegression()\n",
    "model.fit(X.toarray(), y)\n",
    "\n",
    "# Display the coefficients of the model\n",
    "print(f\"Model Coefficients: {model.coef_}\")\n"
   ]
  }
 ],
 "metadata": {
  "kernelspec": {
   "display_name": "Python 3",
   "language": "python",
   "name": "python3"
  },
  "language_info": {
   "codemirror_mode": {
    "name": "ipython",
    "version": 3
   },
   "file_extension": ".py",
   "mimetype": "text/x-python",
   "name": "python",
   "nbconvert_exporter": "python",
   "pygments_lexer": "ipython3",
   "version": "3.10.9"
  }
 },
 "nbformat": 4,
 "nbformat_minor": 2
}
